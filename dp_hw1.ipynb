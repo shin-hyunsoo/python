{
  "nbformat": 4,
  "nbformat_minor": 0,
  "metadata": {
    "colab": {
      "name": "Untitled8.ipynb",
      "provenance": [],
      "include_colab_link": true
    },
    "kernelspec": {
      "name": "python3",
      "display_name": "Python 3"
    }
  },
  "cells": [
    {
      "cell_type": "markdown",
      "metadata": {
        "id": "view-in-github",
        "colab_type": "text"
      },
      "source": [
        "<a href=\"https://colab.research.google.com/github/shin-hyunsoo/python/blob/master/dp_hw1.ipynb\" target=\"_parent\"><img src=\"https://colab.research.google.com/assets/colab-badge.svg\" alt=\"Open In Colab\"/></a>"
      ]
    },
    {
      "cell_type": "code",
      "metadata": {
        "id": "mXJJLlRmICSs",
        "colab_type": "code",
        "colab": {
          "base_uri": "https://localhost:8080/",
          "height": 35
        },
        "outputId": "e6fe1793-afd3-417a-f376-714cd03ef4e8"
      },
      "source": [
        "!git clone https://github.com/shin-hyunsoo/python.git"
      ],
      "execution_count": 2,
      "outputs": [
        {
          "output_type": "stream",
          "text": [
            "fatal: destination path 'python' already exists and is not an empty directory.\n"
          ],
          "name": "stdout"
        }
      ]
    },
    {
      "cell_type": "code",
      "metadata": {
        "id": "OW4yyu8HImLh",
        "colab_type": "code",
        "colab": {
          "base_uri": "https://localhost:8080/",
          "height": 71
        },
        "outputId": "b1b5065a-b9cf-440d-dfb1-a87f5e6f3d2c"
      },
      "source": [
        "!ls -tlr"
      ],
      "execution_count": 3,
      "outputs": [
        {
          "output_type": "stream",
          "text": [
            "total 8\n",
            "drwxr-xr-x 1 root root 4096 Aug 27 16:17 sample_data\n",
            "drwxr-xr-x 4 root root 4096 Oct  9 10:47 python\n"
          ],
          "name": "stdout"
        }
      ]
    },
    {
      "cell_type": "code",
      "metadata": {
        "id": "g88N_ePTIoMp",
        "colab_type": "code",
        "colab": {}
      },
      "source": [
        "!cd python"
      ],
      "execution_count": 0,
      "outputs": []
    },
    {
      "cell_type": "code",
      "metadata": {
        "id": "usZ_Gx3LIuLv",
        "colab_type": "code",
        "colab": {
          "base_uri": "https://localhost:8080/",
          "height": 107
        },
        "outputId": "13dd6a5e-2619-43cb-ae5f-6cda307e6cbd"
      },
      "source": [
        "!ls -rtl python/dss/deeplearning/"
      ],
      "execution_count": 8,
      "outputs": [
        {
          "output_type": "stream",
          "text": [
            "total 16\n",
            "drwxr-xr-x 4 root root 4096 Oct  9 10:47 refer\n",
            "-rw-r--r-- 1 root root 1670 Oct  9 10:47 newswire_example.py\n",
            "-rw-r--r-- 1 root root  957 Oct  9 10:47 Init_Neural_Net.py\n",
            "-rw-r--r-- 1 root root 1829 Oct  9 10:47 IMDB_example.py\n"
          ],
          "name": "stdout"
        }
      ]
    },
    {
      "cell_type": "code",
      "metadata": {
        "id": "meTubiFwIv5e",
        "colab_type": "code",
        "colab": {
          "base_uri": "https://localhost:8080/",
          "height": 35
        },
        "outputId": "11ae2059-d510-4ce6-80b0-388deb565161"
      },
      "source": [
        "!ls -rtl python/dss/deeplearning/init_Neural_Net.py"
      ],
      "execution_count": 9,
      "outputs": [
        {
          "output_type": "stream",
          "text": [
            "ls: cannot access 'python/dss/deeplearning/init_Neural_Net.py': No such file or directory\n"
          ],
          "name": "stdout"
        }
      ]
    },
    {
      "cell_type": "code",
      "metadata": {
        "id": "abKngGHJI8vX",
        "colab_type": "code",
        "colab": {}
      },
      "source": [
        ""
      ],
      "execution_count": 0,
      "outputs": []
    }
  ]
}