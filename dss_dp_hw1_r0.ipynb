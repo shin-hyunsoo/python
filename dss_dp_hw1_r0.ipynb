{
  "nbformat": 4,
  "nbformat_minor": 0,
  "metadata": {
    "colab": {
      "name": "dss_dp_hw1_r0.ipynb",
      "provenance": [],
      "collapsed_sections": [],
      "include_colab_link": true
    },
    "kernelspec": {
      "name": "python3",
      "display_name": "Python 3"
    },
    "accelerator": "GPU"
  },
  "cells": [
    {
      "cell_type": "markdown",
      "metadata": {
        "id": "view-in-github",
        "colab_type": "text"
      },
      "source": [
        "<a href=\"https://colab.research.google.com/github/shin-hyunsoo/python/blob/master/dss_dp_hw1_r0.ipynb\" target=\"_parent\"><img src=\"https://colab.research.google.com/assets/colab-badge.svg\" alt=\"Open In Colab\"/></a>"
      ]
    },
    {
      "cell_type": "code",
      "metadata": {
        "id": "F8__Os8oCBaQ",
        "colab_type": "code",
        "colab": {
          "base_uri": "https://localhost:8080/",
          "height": 35
        },
        "outputId": "791be109-eb5d-442a-a46a-da1a62f0dd35"
      },
      "source": [
        "# Normal - Library ----------------------------------------------------------------------------------\n",
        "import numpy as np\n",
        "import pandas as pd\n",
        "import os\n",
        "from sklearn.model_selection import train_test_split\n",
        "from sklearn.preprocessing import LabelEncoder\n",
        "from sklearn.preprocessing import OneHotEncoder\n",
        "import matplotlib.pyplot as plt\n",
        "\n",
        "# MLP - Library -------------------------------------------------------------------------------------\n",
        "from keras import models\n",
        "from keras import layers\n",
        "from keras import optimizers\n",
        "from keras.utils.np_utils import to_categorical\n"
      ],
      "execution_count": 1,
      "outputs": [
        {
          "output_type": "stream",
          "text": [
            "Using TensorFlow backend.\n"
          ],
          "name": "stderr"
        }
      ]
    },
    {
      "cell_type": "code",
      "metadata": {
        "id": "C54uL17lCdZi",
        "colab_type": "code",
        "colab": {}
      },
      "source": [
        "#!pip install -U -q PyDrive"
      ],
      "execution_count": 0,
      "outputs": []
    },
    {
      "cell_type": "code",
      "metadata": {
        "id": "bmpN3UHWCouU",
        "colab_type": "code",
        "colab": {}
      },
      "source": [
        "# from pydrive.auth import GoogleAuth\n",
        "# from pydrive.drive import GoogleDrive\n",
        "# from google.colab import auth\n",
        "# from oauth2client.client import GoogleCredentials\n",
        "   \n",
        "# # PyDrive Authentication\n",
        "# auth.authenticate_user()\n",
        "# gauth = GoogleAuth()\n",
        "# gauth.credentials = GoogleCredentials.get_application_default()\n",
        "# drive = GoogleDrive(gauth)\n"
      ],
      "execution_count": 0,
      "outputs": []
    },
    {
      "cell_type": "code",
      "metadata": {
        "id": "Zst9ymTzEZZw",
        "colab_type": "code",
        "colab": {}
      },
      "source": [
        "# folder_id = '1-8S7zrqtZn26NMP9JODBzdv7OMxmOVLo'\n",
        "   \n",
        "# def ListFolder(parent):\n",
        "#     filelist=[]\n",
        "#     file_list = drive.ListFile({'q': \"'%s' in parents and trashed=false\" % parent}).GetList()\n",
        "#     for f in file_list:\n",
        "#         if f['mimeType']=='application/vnd.google-apps.folder': # if folder\n",
        "#             filelist.append({\"id\":f['id'],\"title\":f['title'],\"list\":ListFolder(f['id'])})\n",
        "#         else:\n",
        "#             filelist.append({\"title\":f['title'],\"id\":f['id']})\n",
        "#     return filelist\n",
        "   \n",
        "   \n",
        "# file_lists = ListFolder(folder_id)\n",
        "# print(file_lists)"
      ],
      "execution_count": 0,
      "outputs": []
    },
    {
      "cell_type": "code",
      "metadata": {
        "id": "9vSNJA_HFd8k",
        "colab_type": "code",
        "colab": {}
      },
      "source": [
        "# choose a local (colab) directory to store the data.\n",
        "# local_download_path = os.path.expanduser('~/my_sample_data')\n",
        "# try:\n",
        "# \tos.makedirs(local_download_path)\n",
        "# except: pass"
      ],
      "execution_count": 0,
      "outputs": []
    },
    {
      "cell_type": "code",
      "metadata": {
        "id": "aGtqOc6RHXf1",
        "colab_type": "code",
        "colab": {}
      },
      "source": [
        "# ret = []\n",
        "# for file in file_lists:\n",
        "#     print('title: %s, id: %s' % (file['title'], file['id']))\n",
        "#     fname = os.path.join(local_download_path, file['title'])\n",
        "#     print('downloading to {}'.format(fname))\n",
        "#     f_ = drive.CreateFile({'id': file['id']})\n",
        "#     f_.GetContentFile(fname)\n",
        "#     print(fname)\n",
        "#     ret.append(fname)"
      ],
      "execution_count": 0,
      "outputs": []
    },
    {
      "cell_type": "code",
      "metadata": {
        "id": "zyTRiHlkIKTJ",
        "colab_type": "code",
        "colab": {}
      },
      "source": [
        "# df = pd.read_csv(ret[0], encoding=\"ISO-8859-1\", sep='delimiter')"
      ],
      "execution_count": 0,
      "outputs": []
    },
    {
      "cell_type": "code",
      "metadata": {
        "id": "cRWYcHIbNI7N",
        "colab_type": "code",
        "colab": {}
      },
      "source": [
        "# df.head()"
      ],
      "execution_count": 0,
      "outputs": []
    },
    {
      "cell_type": "code",
      "metadata": {
        "id": "bYakE2a2NNyN",
        "colab_type": "code",
        "colab": {}
      },
      "source": [
        ""
      ],
      "execution_count": 0,
      "outputs": []
    },
    {
      "cell_type": "code",
      "metadata": {
        "id": "RJXfeS12NSN5",
        "colab_type": "code",
        "colab": {
          "base_uri": "https://localhost:8080/",
          "height": 35
        },
        "outputId": "528c621f-c9e8-4d3f-9ca5-03ad46a82149"
      },
      "source": [
        "from google.colab import drive\n",
        "drive.mount('/gdrive')"
      ],
      "execution_count": 8,
      "outputs": [
        {
          "output_type": "stream",
          "text": [
            "Drive already mounted at /gdrive; to attempt to forcibly remount, call drive.mount(\"/gdrive\", force_remount=True).\n"
          ],
          "name": "stdout"
        }
      ]
    },
    {
      "cell_type": "code",
      "metadata": {
        "id": "N_dx04dMWov5",
        "colab_type": "code",
        "colab": {
          "base_uri": "https://localhost:8080/",
          "height": 89
        },
        "outputId": "9cdf23a1-ab56-4458-d77d-11449cef2c1a"
      },
      "source": [
        "!ls -rtl /gdrive/My\\ Drive/DATA"
      ],
      "execution_count": 14,
      "outputs": [
        {
          "output_type": "stream",
          "text": [
            "total 295\n",
            "-rw------- 1 root root  13756 Oct  9 10:54 Iris_data.xlsx\n",
            "-rw------- 1 root root  21510 Oct  9 10:55 Liver_data.xlsx\n",
            "-rw------- 1 root root 265656 Oct  9 10:56 Abalone_original.xlsx\n"
          ],
          "name": "stdout"
        }
      ]
    },
    {
      "cell_type": "code",
      "metadata": {
        "id": "_C8K98oEiqZ9",
        "colab_type": "code",
        "colab": {}
      },
      "source": [
        ""
      ],
      "execution_count": 0,
      "outputs": []
    },
    {
      "cell_type": "code",
      "metadata": {
        "id": "ZhhbXYXeWo1z",
        "colab_type": "code",
        "colab": {}
      },
      "source": [
        "df = pd.read_excel(\"/gdrive/My Drive/DATA/Iris_data.xlsx\")"
      ],
      "execution_count": 0,
      "outputs": []
    },
    {
      "cell_type": "code",
      "metadata": {
        "id": "RLTJ5iZsWo4i",
        "colab_type": "code",
        "colab": {
          "base_uri": "https://localhost:8080/",
          "height": 204
        },
        "outputId": "37c31a20-7042-448d-9d93-8a26abd565f3"
      },
      "source": [
        "df.head()"
      ],
      "execution_count": 11,
      "outputs": [
        {
          "output_type": "execute_result",
          "data": {
            "text/html": [
              "<div>\n",
              "<style scoped>\n",
              "    .dataframe tbody tr th:only-of-type {\n",
              "        vertical-align: middle;\n",
              "    }\n",
              "\n",
              "    .dataframe tbody tr th {\n",
              "        vertical-align: top;\n",
              "    }\n",
              "\n",
              "    .dataframe thead th {\n",
              "        text-align: right;\n",
              "    }\n",
              "</style>\n",
              "<table border=\"1\" class=\"dataframe\">\n",
              "  <thead>\n",
              "    <tr style=\"text-align: right;\">\n",
              "      <th></th>\n",
              "      <th>SepalLength</th>\n",
              "      <th>SepalWidth</th>\n",
              "      <th>PetalLength</th>\n",
              "      <th>PetalWidth</th>\n",
              "      <th>Class</th>\n",
              "    </tr>\n",
              "  </thead>\n",
              "  <tbody>\n",
              "    <tr>\n",
              "      <th>0</th>\n",
              "      <td>5.1</td>\n",
              "      <td>3.5</td>\n",
              "      <td>1.4</td>\n",
              "      <td>0.2</td>\n",
              "      <td>Iris-setosa</td>\n",
              "    </tr>\n",
              "    <tr>\n",
              "      <th>1</th>\n",
              "      <td>4.9</td>\n",
              "      <td>3.0</td>\n",
              "      <td>1.4</td>\n",
              "      <td>0.2</td>\n",
              "      <td>Iris-setosa</td>\n",
              "    </tr>\n",
              "    <tr>\n",
              "      <th>2</th>\n",
              "      <td>4.7</td>\n",
              "      <td>3.2</td>\n",
              "      <td>1.3</td>\n",
              "      <td>0.2</td>\n",
              "      <td>Iris-setosa</td>\n",
              "    </tr>\n",
              "    <tr>\n",
              "      <th>3</th>\n",
              "      <td>4.6</td>\n",
              "      <td>3.1</td>\n",
              "      <td>1.5</td>\n",
              "      <td>0.2</td>\n",
              "      <td>Iris-setosa</td>\n",
              "    </tr>\n",
              "    <tr>\n",
              "      <th>4</th>\n",
              "      <td>5.0</td>\n",
              "      <td>3.6</td>\n",
              "      <td>1.4</td>\n",
              "      <td>0.2</td>\n",
              "      <td>Iris-setosa</td>\n",
              "    </tr>\n",
              "  </tbody>\n",
              "</table>\n",
              "</div>"
            ],
            "text/plain": [
              "   SepalLength  SepalWidth  PetalLength  PetalWidth        Class\n",
              "0          5.1         3.5          1.4         0.2  Iris-setosa\n",
              "1          4.9         3.0          1.4         0.2  Iris-setosa\n",
              "2          4.7         3.2          1.3         0.2  Iris-setosa\n",
              "3          4.6         3.1          1.5         0.2  Iris-setosa\n",
              "4          5.0         3.6          1.4         0.2  Iris-setosa"
            ]
          },
          "metadata": {
            "tags": []
          },
          "execution_count": 11
        }
      ]
    },
    {
      "cell_type": "code",
      "metadata": {
        "id": "g2utdGTeWo9B",
        "colab_type": "code",
        "colab": {
          "base_uri": "https://localhost:8080/",
          "height": 1000
        },
        "outputId": "c2bb4b14-5421-4bcd-eb6c-2f35159ee1da"
      },
      "source": [
        "\n",
        "#######################################################################################################################\n",
        "# < Problem 2 > Iris_data\n",
        "#######################################################################################################################\n",
        "# 1. Data Load ------------------------------------------------------------------------------------------ \n",
        "#df = pd.read_excel(\"data/Abalone_original.xlsx\")\n",
        "#df = pd.read_excel(\"data/Iris_data.xlsx\")\n",
        "#df = pd.read_excel(\"data/Liver_data.xlsx\")\n",
        "np.random.seed(2045070)\n",
        "df.shape\n",
        "df.columns\n",
        "df[\"Class\"].dtype\n",
        "df[\"Class\"].value_counts()\n",
        "\n",
        "data_x = df.iloc[:,:-1]\n",
        "data_y = df.iloc[:,-1:]\n",
        "label_encoder = LabelEncoder()\n",
        "data_y1 = label_encoder.fit_transform(data_y)\n",
        "data_y2 = to_categorical(data_y1)\n",
        "data_y2.shape\n",
        "\n",
        "train_x, test__x, train_y, test__y = train_test_split(data_x, data_y2, test_size=0.3)\n",
        "train_x.shape\n",
        "test__x.shape\n",
        "test__y.shape\n",
        "\n",
        "# 2. Make MLP ----------------------------------------------------------------------------------------\n",
        "a_func = None\n",
        "#a_func = 'relu'\n",
        "opti_func = 'sgd'\n",
        "#opti_func = 'rmsprop'\n",
        "loop_cnt = 2\n",
        "set_Node = [50] * loop_cnt \n",
        "\n",
        "count_feature = train_x.shape[1]\n",
        "count__output = test__y.shape[1]\n",
        "\n",
        "if count__output == 2 :\n",
        "    last_activation = \"sigmoid\"\n",
        "    v_loss = \"binary_crossentropy\"\n",
        "elif count__output == 1 :\n",
        "    last_activation = -1\n",
        "    v_loss = -1\n",
        "    print(\"Please Check Y_class, You have to convert sparse categorical~!\")\n",
        "else:\n",
        "    last_activation = \"softmax\"\n",
        "    v_loss = \"categorical_crossentropy\"\n",
        "\n",
        "model = models.Sequential()\n",
        "\n",
        "for loop_idx in range(loop_cnt):\n",
        "    if loop_idx==0: model.add( layers.Dense(set_Node[loop_idx], activation=a_func, input_shape=(count_feature,) ) )\n",
        "    else:           model.add( layers.Dense(set_Node[loop_idx], activation=a_func ) )\n",
        "\n",
        "model.add( layers.Dense(count__output, activation=last_activation) )       \n",
        "model.compile(optimizer = opti_func, loss = v_loss, metrics = ['accuracy'])\n",
        "\n",
        "# 3. Fitting ----------------------------------------------------------------------------------------\n",
        "#model.fit(train_x, train_y, epochs = 5, batch_size = 128)\n",
        "val_size = round( train_x.shape[0]*0.3 )\n",
        "x_val = train_x[:val_size]\n",
        "partial_x_train = train_x[val_size:]\n",
        "y_val = train_y[:val_size]\n",
        "partial_y_train = train_y[val_size:]\n",
        "model.fit(partial_x_train,\n",
        "          partial_y_train,\n",
        "          epochs=100,\n",
        "          batch_size=10,\n",
        "          validation_data=(x_val, y_val))\n",
        "results = model.evaluate(test__x, test__y)\n",
        "print(results)\n"
      ],
      "execution_count": 12,
      "outputs": [
        {
          "output_type": "stream",
          "text": [
            "WARNING:tensorflow:From /usr/local/lib/python3.6/dist-packages/keras/backend/tensorflow_backend.py:66: The name tf.get_default_graph is deprecated. Please use tf.compat.v1.get_default_graph instead.\n",
            "\n",
            "WARNING:tensorflow:From /usr/local/lib/python3.6/dist-packages/keras/backend/tensorflow_backend.py:541: The name tf.placeholder is deprecated. Please use tf.compat.v1.placeholder instead.\n",
            "\n",
            "WARNING:tensorflow:From /usr/local/lib/python3.6/dist-packages/keras/backend/tensorflow_backend.py:4432: The name tf.random_uniform is deprecated. Please use tf.random.uniform instead.\n",
            "\n",
            "WARNING:tensorflow:From /usr/local/lib/python3.6/dist-packages/keras/optimizers.py:793: The name tf.train.Optimizer is deprecated. Please use tf.compat.v1.train.Optimizer instead.\n",
            "\n",
            "WARNING:tensorflow:From /usr/local/lib/python3.6/dist-packages/keras/backend/tensorflow_backend.py:3576: The name tf.log is deprecated. Please use tf.math.log instead.\n",
            "\n",
            "WARNING:tensorflow:From /usr/local/lib/python3.6/dist-packages/tensorflow_core/python/ops/math_grad.py:1424: where (from tensorflow.python.ops.array_ops) is deprecated and will be removed in a future version.\n",
            "Instructions for updating:\n",
            "Use tf.where in 2.0, which has the same broadcast rule as np.where\n"
          ],
          "name": "stdout"
        },
        {
          "output_type": "stream",
          "text": [
            "/usr/local/lib/python3.6/dist-packages/sklearn/preprocessing/label.py:235: DataConversionWarning: A column-vector y was passed when a 1d array was expected. Please change the shape of y to (n_samples, ), for example using ravel().\n",
            "  y = column_or_1d(y, warn=True)\n"
          ],
          "name": "stderr"
        },
        {
          "output_type": "stream",
          "text": [
            "WARNING:tensorflow:From /usr/local/lib/python3.6/dist-packages/keras/backend/tensorflow_backend.py:1033: The name tf.assign_add is deprecated. Please use tf.compat.v1.assign_add instead.\n",
            "\n",
            "WARNING:tensorflow:From /usr/local/lib/python3.6/dist-packages/keras/backend/tensorflow_backend.py:1020: The name tf.assign is deprecated. Please use tf.compat.v1.assign instead.\n",
            "\n",
            "WARNING:tensorflow:From /usr/local/lib/python3.6/dist-packages/keras/backend/tensorflow_backend.py:3005: The name tf.Session is deprecated. Please use tf.compat.v1.Session instead.\n",
            "\n",
            "Train on 73 samples, validate on 32 samples\n",
            "Epoch 1/100\n",
            "WARNING:tensorflow:From /usr/local/lib/python3.6/dist-packages/keras/backend/tensorflow_backend.py:190: The name tf.get_default_session is deprecated. Please use tf.compat.v1.get_default_session instead.\n",
            "\n",
            "WARNING:tensorflow:From /usr/local/lib/python3.6/dist-packages/keras/backend/tensorflow_backend.py:197: The name tf.ConfigProto is deprecated. Please use tf.compat.v1.ConfigProto instead.\n",
            "\n",
            "WARNING:tensorflow:From /usr/local/lib/python3.6/dist-packages/keras/backend/tensorflow_backend.py:207: The name tf.global_variables is deprecated. Please use tf.compat.v1.global_variables instead.\n",
            "\n",
            "WARNING:tensorflow:From /usr/local/lib/python3.6/dist-packages/keras/backend/tensorflow_backend.py:216: The name tf.is_variable_initialized is deprecated. Please use tf.compat.v1.is_variable_initialized instead.\n",
            "\n",
            "WARNING:tensorflow:From /usr/local/lib/python3.6/dist-packages/keras/backend/tensorflow_backend.py:223: The name tf.variables_initializer is deprecated. Please use tf.compat.v1.variables_initializer instead.\n",
            "\n",
            "73/73 [==============================] - 1s 12ms/step - loss: 1.2379 - acc: 0.2877 - val_loss: 0.9318 - val_acc: 0.7187\n",
            "Epoch 2/100\n",
            "73/73 [==============================] - 0s 584us/step - loss: 1.1054 - acc: 0.5205 - val_loss: 0.7414 - val_acc: 0.7187\n",
            "Epoch 3/100\n",
            "73/73 [==============================] - 0s 566us/step - loss: 0.6897 - acc: 0.6575 - val_loss: 1.5613 - val_acc: 0.3125\n",
            "Epoch 4/100\n",
            "73/73 [==============================] - 0s 559us/step - loss: 0.7690 - acc: 0.5890 - val_loss: 0.7840 - val_acc: 0.7187\n",
            "Epoch 5/100\n",
            "73/73 [==============================] - 0s 521us/step - loss: 0.6380 - acc: 0.6712 - val_loss: 0.8145 - val_acc: 0.5938\n",
            "Epoch 6/100\n",
            "73/73 [==============================] - 0s 513us/step - loss: 0.6765 - acc: 0.6575 - val_loss: 1.6801 - val_acc: 0.5938\n",
            "Epoch 7/100\n",
            "73/73 [==============================] - 0s 562us/step - loss: 0.7030 - acc: 0.6986 - val_loss: 0.4894 - val_acc: 0.7187\n",
            "Epoch 8/100\n",
            "73/73 [==============================] - 0s 662us/step - loss: 0.4955 - acc: 0.8219 - val_loss: 0.4184 - val_acc: 0.8438\n",
            "Epoch 9/100\n",
            "73/73 [==============================] - 0s 598us/step - loss: 0.6327 - acc: 0.6301 - val_loss: 0.4402 - val_acc: 0.7187\n",
            "Epoch 10/100\n",
            "73/73 [==============================] - 0s 576us/step - loss: 0.5252 - acc: 0.6849 - val_loss: 0.6931 - val_acc: 0.7187\n",
            "Epoch 11/100\n",
            "73/73 [==============================] - 0s 562us/step - loss: 0.5112 - acc: 0.7534 - val_loss: 0.3813 - val_acc: 0.9688\n",
            "Epoch 12/100\n",
            "73/73 [==============================] - 0s 526us/step - loss: 0.4149 - acc: 0.9041 - val_loss: 0.4858 - val_acc: 0.6250\n",
            "Epoch 13/100\n",
            "73/73 [==============================] - 0s 657us/step - loss: 0.3948 - acc: 0.8356 - val_loss: 0.3669 - val_acc: 0.7500\n",
            "Epoch 14/100\n",
            "73/73 [==============================] - 0s 608us/step - loss: 0.3561 - acc: 0.8767 - val_loss: 0.7574 - val_acc: 0.5938\n",
            "Epoch 15/100\n",
            "73/73 [==============================] - 0s 560us/step - loss: 0.3876 - acc: 0.8356 - val_loss: 0.3327 - val_acc: 0.9688\n",
            "Epoch 16/100\n",
            "73/73 [==============================] - 0s 570us/step - loss: 0.3666 - acc: 0.8767 - val_loss: 0.3761 - val_acc: 0.9062\n",
            "Epoch 17/100\n",
            "73/73 [==============================] - 0s 535us/step - loss: 0.3270 - acc: 0.9589 - val_loss: 0.4094 - val_acc: 0.7500\n",
            "Epoch 18/100\n",
            "73/73 [==============================] - 0s 536us/step - loss: 0.3319 - acc: 0.9178 - val_loss: 0.4117 - val_acc: 0.7187\n",
            "Epoch 19/100\n",
            "73/73 [==============================] - 0s 551us/step - loss: 0.3858 - acc: 0.8356 - val_loss: 0.2903 - val_acc: 0.9375\n",
            "Epoch 20/100\n",
            "73/73 [==============================] - 0s 492us/step - loss: 0.2871 - acc: 0.9452 - val_loss: 0.4001 - val_acc: 0.7500\n",
            "Epoch 21/100\n",
            "73/73 [==============================] - 0s 536us/step - loss: 0.3148 - acc: 0.9315 - val_loss: 0.3172 - val_acc: 0.9062\n",
            "Epoch 22/100\n",
            "73/73 [==============================] - 0s 546us/step - loss: 0.3078 - acc: 0.9315 - val_loss: 0.3634 - val_acc: 0.8750\n",
            "Epoch 23/100\n",
            "73/73 [==============================] - 0s 579us/step - loss: 0.2987 - acc: 0.9452 - val_loss: 0.2623 - val_acc: 0.9375\n",
            "Epoch 24/100\n",
            "73/73 [==============================] - 0s 627us/step - loss: 0.3584 - acc: 0.8767 - val_loss: 0.2521 - val_acc: 0.9688\n",
            "Epoch 25/100\n",
            "73/73 [==============================] - 0s 592us/step - loss: 0.2717 - acc: 0.9315 - val_loss: 0.2496 - val_acc: 0.9375\n",
            "Epoch 26/100\n",
            "73/73 [==============================] - 0s 593us/step - loss: 0.2498 - acc: 0.9589 - val_loss: 0.3041 - val_acc: 0.7812\n",
            "Epoch 27/100\n",
            "73/73 [==============================] - 0s 630us/step - loss: 0.2867 - acc: 0.9315 - val_loss: 0.2370 - val_acc: 0.9375\n",
            "Epoch 28/100\n",
            "73/73 [==============================] - 0s 551us/step - loss: 0.2442 - acc: 0.9452 - val_loss: 0.2271 - val_acc: 0.9688\n",
            "Epoch 29/100\n",
            "73/73 [==============================] - 0s 535us/step - loss: 0.2388 - acc: 0.9452 - val_loss: 0.2223 - val_acc: 0.9688\n",
            "Epoch 30/100\n",
            "73/73 [==============================] - 0s 529us/step - loss: 0.2258 - acc: 0.9315 - val_loss: 0.2736 - val_acc: 0.9062\n",
            "Epoch 31/100\n",
            "73/73 [==============================] - 0s 512us/step - loss: 0.2320 - acc: 0.9452 - val_loss: 0.2397 - val_acc: 0.9063\n",
            "Epoch 32/100\n",
            "73/73 [==============================] - 0s 648us/step - loss: 0.2196 - acc: 0.9452 - val_loss: 0.2924 - val_acc: 0.9062\n",
            "Epoch 33/100\n",
            "73/73 [==============================] - 0s 566us/step - loss: 0.2085 - acc: 0.9452 - val_loss: 0.2280 - val_acc: 0.9375\n",
            "Epoch 34/100\n",
            "73/73 [==============================] - 0s 585us/step - loss: 0.2093 - acc: 0.9589 - val_loss: 0.1963 - val_acc: 0.9688\n",
            "Epoch 35/100\n",
            "73/73 [==============================] - 0s 567us/step - loss: 0.1991 - acc: 0.9589 - val_loss: 0.2079 - val_acc: 0.9687\n",
            "Epoch 36/100\n",
            "73/73 [==============================] - 0s 509us/step - loss: 0.2043 - acc: 0.9315 - val_loss: 0.2162 - val_acc: 0.9375\n",
            "Epoch 37/100\n",
            "73/73 [==============================] - 0s 519us/step - loss: 0.2007 - acc: 0.9726 - val_loss: 0.7469 - val_acc: 0.7187\n",
            "Epoch 38/100\n",
            "73/73 [==============================] - 0s 504us/step - loss: 0.3384 - acc: 0.9041 - val_loss: 0.2364 - val_acc: 0.9062\n",
            "Epoch 39/100\n",
            "73/73 [==============================] - 0s 586us/step - loss: 0.1908 - acc: 0.9589 - val_loss: 0.1774 - val_acc: 0.9688\n",
            "Epoch 40/100\n",
            "73/73 [==============================] - 0s 657us/step - loss: 0.1793 - acc: 0.9589 - val_loss: 0.1932 - val_acc: 0.9375\n",
            "Epoch 41/100\n",
            "73/73 [==============================] - 0s 569us/step - loss: 0.1992 - acc: 0.9178 - val_loss: 0.2307 - val_acc: 0.9062\n",
            "Epoch 42/100\n",
            "73/73 [==============================] - 0s 612us/step - loss: 0.2075 - acc: 0.9452 - val_loss: 0.2030 - val_acc: 0.9375\n",
            "Epoch 43/100\n",
            "73/73 [==============================] - 0s 536us/step - loss: 0.1853 - acc: 0.9589 - val_loss: 0.1653 - val_acc: 1.0000\n",
            "Epoch 44/100\n",
            "73/73 [==============================] - 0s 523us/step - loss: 0.1890 - acc: 0.9315 - val_loss: 0.2085 - val_acc: 0.9062\n",
            "Epoch 45/100\n",
            "73/73 [==============================] - 0s 517us/step - loss: 0.1948 - acc: 0.9589 - val_loss: 0.1639 - val_acc: 1.0000\n",
            "Epoch 46/100\n",
            "73/73 [==============================] - 0s 508us/step - loss: 0.1553 - acc: 0.9726 - val_loss: 0.2083 - val_acc: 0.9062\n",
            "Epoch 47/100\n",
            "73/73 [==============================] - 0s 528us/step - loss: 0.1814 - acc: 0.9178 - val_loss: 0.1945 - val_acc: 0.9375\n",
            "Epoch 48/100\n",
            "73/73 [==============================] - 0s 645us/step - loss: 0.1967 - acc: 0.9589 - val_loss: 0.1504 - val_acc: 0.9688\n",
            "Epoch 49/100\n",
            "73/73 [==============================] - 0s 524us/step - loss: 0.2731 - acc: 0.8493 - val_loss: 0.1483 - val_acc: 1.0000\n",
            "Epoch 50/100\n",
            "73/73 [==============================] - 0s 533us/step - loss: 0.1513 - acc: 0.9589 - val_loss: 0.1725 - val_acc: 0.9062\n",
            "Epoch 51/100\n",
            "73/73 [==============================] - 0s 528us/step - loss: 0.1663 - acc: 0.9452 - val_loss: 0.3129 - val_acc: 0.8750\n",
            "Epoch 52/100\n",
            "73/73 [==============================] - 0s 539us/step - loss: 0.1715 - acc: 0.9452 - val_loss: 0.1669 - val_acc: 0.9375\n",
            "Epoch 53/100\n",
            "73/73 [==============================] - 0s 655us/step - loss: 0.1499 - acc: 0.9589 - val_loss: 0.1674 - val_acc: 0.9375\n",
            "Epoch 54/100\n",
            "73/73 [==============================] - 0s 676us/step - loss: 0.1516 - acc: 0.9589 - val_loss: 0.1365 - val_acc: 0.9688\n",
            "Epoch 55/100\n",
            "73/73 [==============================] - 0s 650us/step - loss: 0.1548 - acc: 0.9452 - val_loss: 0.2181 - val_acc: 0.9062\n",
            "Epoch 56/100\n",
            "73/73 [==============================] - 0s 565us/step - loss: 0.1503 - acc: 0.9452 - val_loss: 0.1698 - val_acc: 0.9375\n",
            "Epoch 57/100\n",
            "73/73 [==============================] - 0s 486us/step - loss: 0.1464 - acc: 0.9589 - val_loss: 0.3187 - val_acc: 0.8750\n",
            "Epoch 58/100\n",
            "73/73 [==============================] - 0s 516us/step - loss: 0.1495 - acc: 0.9452 - val_loss: 0.1291 - val_acc: 0.9688\n",
            "Epoch 59/100\n",
            "73/73 [==============================] - 0s 550us/step - loss: 0.1329 - acc: 0.9863 - val_loss: 0.1293 - val_acc: 0.9688\n",
            "Epoch 60/100\n",
            "73/73 [==============================] - 0s 511us/step - loss: 0.1609 - acc: 0.9589 - val_loss: 0.1256 - val_acc: 0.9688\n",
            "Epoch 61/100\n",
            "73/73 [==============================] - 0s 653us/step - loss: 0.1229 - acc: 0.9726 - val_loss: 0.1759 - val_acc: 0.9062\n",
            "Epoch 62/100\n",
            "73/73 [==============================] - 0s 536us/step - loss: 0.1489 - acc: 0.9589 - val_loss: 0.1358 - val_acc: 1.0000\n",
            "Epoch 63/100\n",
            "73/73 [==============================] - 0s 525us/step - loss: 0.1285 - acc: 0.9726 - val_loss: 0.1214 - val_acc: 1.0000\n",
            "Epoch 64/100\n",
            "73/73 [==============================] - 0s 544us/step - loss: 0.1309 - acc: 0.9452 - val_loss: 0.1247 - val_acc: 1.0000\n",
            "Epoch 65/100\n",
            "73/73 [==============================] - 0s 534us/step - loss: 0.1174 - acc: 0.9589 - val_loss: 0.2559 - val_acc: 0.9062\n",
            "Epoch 66/100\n",
            "73/73 [==============================] - 0s 545us/step - loss: 0.1883 - acc: 0.9178 - val_loss: 0.2099 - val_acc: 0.9062\n",
            "Epoch 67/100\n",
            "73/73 [==============================] - 0s 491us/step - loss: 0.1417 - acc: 0.9589 - val_loss: 0.1191 - val_acc: 1.0000\n",
            "Epoch 68/100\n",
            "73/73 [==============================] - 0s 610us/step - loss: 0.1176 - acc: 0.9726 - val_loss: 0.1900 - val_acc: 0.9062\n",
            "Epoch 69/100\n",
            "73/73 [==============================] - 0s 507us/step - loss: 0.1261 - acc: 0.9726 - val_loss: 0.1137 - val_acc: 0.9688\n",
            "Epoch 70/100\n",
            "73/73 [==============================] - 0s 562us/step - loss: 0.1400 - acc: 0.9589 - val_loss: 0.2803 - val_acc: 0.8438\n",
            "Epoch 71/100\n",
            "73/73 [==============================] - 0s 564us/step - loss: 0.1960 - acc: 0.9178 - val_loss: 0.1230 - val_acc: 1.0000\n",
            "Epoch 72/100\n",
            "73/73 [==============================] - 0s 512us/step - loss: 0.1387 - acc: 0.9452 - val_loss: 0.1766 - val_acc: 0.9375\n",
            "Epoch 73/100\n",
            "73/73 [==============================] - 0s 528us/step - loss: 0.1145 - acc: 0.9863 - val_loss: 0.1114 - val_acc: 1.0000\n",
            "Epoch 74/100\n",
            "73/73 [==============================] - 0s 551us/step - loss: 0.1139 - acc: 0.9726 - val_loss: 0.1082 - val_acc: 1.0000\n",
            "Epoch 75/100\n",
            "73/73 [==============================] - 0s 554us/step - loss: 0.1401 - acc: 0.9589 - val_loss: 0.1312 - val_acc: 0.9688\n",
            "Epoch 76/100\n",
            "73/73 [==============================] - 0s 535us/step - loss: 0.1339 - acc: 0.9589 - val_loss: 0.1816 - val_acc: 0.9375\n",
            "Epoch 77/100\n",
            "73/73 [==============================] - 0s 544us/step - loss: 0.1393 - acc: 0.9589 - val_loss: 0.1153 - val_acc: 1.0000\n",
            "Epoch 78/100\n",
            "73/73 [==============================] - 0s 543us/step - loss: 0.1117 - acc: 0.9863 - val_loss: 0.1285 - val_acc: 0.9375\n",
            "Epoch 79/100\n",
            "73/73 [==============================] - 0s 567us/step - loss: 0.1162 - acc: 0.9452 - val_loss: 0.1312 - val_acc: 0.9062\n",
            "Epoch 80/100\n",
            "73/73 [==============================] - 0s 700us/step - loss: 0.1098 - acc: 0.9589 - val_loss: 0.1112 - val_acc: 1.0000\n",
            "Epoch 81/100\n",
            "73/73 [==============================] - 0s 574us/step - loss: 0.1356 - acc: 0.9452 - val_loss: 0.1522 - val_acc: 0.9062\n",
            "Epoch 82/100\n",
            "73/73 [==============================] - 0s 563us/step - loss: 0.1150 - acc: 0.9726 - val_loss: 0.1167 - val_acc: 0.9687\n",
            "Epoch 83/100\n",
            "73/73 [==============================] - 0s 604us/step - loss: 0.1073 - acc: 0.9726 - val_loss: 0.1161 - val_acc: 0.9687\n",
            "Epoch 84/100\n",
            "73/73 [==============================] - 0s 512us/step - loss: 0.1079 - acc: 0.9863 - val_loss: 0.0985 - val_acc: 0.9688\n",
            "Epoch 85/100\n",
            "73/73 [==============================] - 0s 527us/step - loss: 0.1147 - acc: 0.9589 - val_loss: 0.1058 - val_acc: 1.0000\n",
            "Epoch 86/100\n",
            "73/73 [==============================] - 0s 511us/step - loss: 0.1404 - acc: 0.9589 - val_loss: 0.1943 - val_acc: 0.9062\n",
            "Epoch 87/100\n",
            "73/73 [==============================] - 0s 536us/step - loss: 0.1304 - acc: 0.9726 - val_loss: 0.1170 - val_acc: 0.9375\n",
            "Epoch 88/100\n",
            "73/73 [==============================] - 0s 588us/step - loss: 0.1376 - acc: 0.9452 - val_loss: 0.1102 - val_acc: 1.0000\n",
            "Epoch 89/100\n",
            "73/73 [==============================] - 0s 614us/step - loss: 0.1199 - acc: 0.9452 - val_loss: 0.0965 - val_acc: 0.9688\n",
            "Epoch 90/100\n",
            "73/73 [==============================] - 0s 514us/step - loss: 0.1330 - acc: 0.9589 - val_loss: 0.1739 - val_acc: 0.9375\n",
            "Epoch 91/100\n",
            "73/73 [==============================] - 0s 552us/step - loss: 0.1643 - acc: 0.9452 - val_loss: 0.1427 - val_acc: 0.9062\n",
            "Epoch 92/100\n",
            "73/73 [==============================] - 0s 514us/step - loss: 0.1222 - acc: 0.9452 - val_loss: 0.1315 - val_acc: 0.9062\n",
            "Epoch 93/100\n",
            "73/73 [==============================] - 0s 552us/step - loss: 0.1124 - acc: 0.9589 - val_loss: 0.4283 - val_acc: 0.7812\n",
            "Epoch 94/100\n",
            "73/73 [==============================] - 0s 583us/step - loss: 0.2174 - acc: 0.9041 - val_loss: 0.0934 - val_acc: 1.0000\n",
            "Epoch 95/100\n",
            "73/73 [==============================] - 0s 490us/step - loss: 0.1413 - acc: 0.9452 - val_loss: 0.0963 - val_acc: 1.0000\n",
            "Epoch 96/100\n",
            "73/73 [==============================] - 0s 600us/step - loss: 0.1192 - acc: 0.9452 - val_loss: 0.0921 - val_acc: 1.0000\n",
            "Epoch 97/100\n",
            "73/73 [==============================] - 0s 500us/step - loss: 0.1276 - acc: 0.9452 - val_loss: 0.2752 - val_acc: 0.8750\n",
            "Epoch 98/100\n",
            "73/73 [==============================] - 0s 564us/step - loss: 0.1352 - acc: 0.9589 - val_loss: 0.9600 - val_acc: 0.6250\n",
            "Epoch 99/100\n",
            "73/73 [==============================] - 0s 579us/step - loss: 0.3919 - acc: 0.8493 - val_loss: 0.0902 - val_acc: 0.9688\n",
            "Epoch 100/100\n",
            "73/73 [==============================] - 0s 529us/step - loss: 0.1063 - acc: 0.9863 - val_loss: 0.0909 - val_acc: 1.0000\n",
            "45/45 [==============================] - 0s 168us/step\n",
            "[0.09410298764705657, 1.0]\n"
          ],
          "name": "stdout"
        }
      ]
    },
    {
      "cell_type": "code",
      "metadata": {
        "id": "QYWd7vXKWpGQ",
        "colab_type": "code",
        "colab": {
          "base_uri": "https://localhost:8080/",
          "height": 171
        },
        "outputId": "c49ef533-c8e8-4ea6-bd5c-ef7681d55105"
      },
      "source": [
        ""
      ],
      "execution_count": 20,
      "outputs": [
        {
          "output_type": "error",
          "ename": "NameError",
          "evalue": "ignored",
          "traceback": [
            "\u001b[0;31m---------------------------------------------------------------------------\u001b[0m",
            "\u001b[0;31mNameError\u001b[0m                                 Traceback (most recent call last)",
            "\u001b[0;32m<ipython-input-20-f9dd12c126a8>\u001b[0m in \u001b[0;36m<module>\u001b[0;34m()\u001b[0m\n\u001b[0;32m----> 1\u001b[0;31m \u001b[0;36m4\u001b[0m\u001b[0;34m/\u001b[0m\u001b[0msAHN8q4Zw0H\u001b[0m\u001b[0;34m-\u001b[0m\u001b[0mQN4n49BDMYXf8eAnN9AZVjYLCgtbCu6T2CQ9E8DjMJM\u001b[0m\u001b[0;34m\u001b[0m\u001b[0;34m\u001b[0m\u001b[0m\n\u001b[0m",
            "\u001b[0;31mNameError\u001b[0m: name 'sAHN8q4Zw0H' is not defined"
          ]
        }
      ]
    },
    {
      "cell_type": "code",
      "metadata": {
        "id": "Yxa3dqbpWqL5",
        "colab_type": "code",
        "colab": {}
      },
      "source": [
        ""
      ],
      "execution_count": 0,
      "outputs": []
    },
    {
      "cell_type": "code",
      "metadata": {
        "id": "Fp-Ls_hdNWZF",
        "colab_type": "code",
        "colab": {}
      },
      "source": [
        ""
      ],
      "execution_count": 0,
      "outputs": []
    }
  ]
}