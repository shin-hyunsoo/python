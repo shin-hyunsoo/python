{
 "cells": [
  {
   "cell_type": "markdown",
   "metadata": {
    "slideshow": {
     "slide_type": "slide"
    }
   },
   "source": [
    "# k-NN(k-Nearest Neighbors)\n"
   ]
  },
  {
   "cell_type": "markdown",
   "metadata": {
    "slideshow": {
     "slide_type": "slide"
    }
   },
   "source": [
    "### 난수 분류 예제"
   ]
  },
  {
   "cell_type": "code",
   "execution_count": 1,
   "metadata": {
    "slideshow": {
     "slide_type": "fragment"
    }
   },
   "outputs": [
    {
     "name": "stdout",
     "output_type": "stream",
     "text": [
      "prediction: [0]\n"
     ]
    },
    {
     "data": {
      "text/plain": [
       "Text(-0.5422331273752832, -0.46322466325567385, 'blue')"
      ]
     },
     "execution_count": 1,
     "metadata": {},
     "output_type": "execute_result"
    },
    {
     "data": {
      "image/png": "[encoded data removed]",
      "text/plain": [
       "<Figure size 432x288 with 1 Axes>"
      ]
     },
     "metadata": {
      "needs_background": "light"
     },
     "output_type": "display_data"
    }
   ],
   "source": [
    "import numpy as np\n",
    "import matplotlib.pyplot as plt\n",
    "from sklearn.neighbors import KNeighborsClassifier\n",
    "from sklearn.datasets import make_classification\n",
    "\n",
    "X, y = make_classification(n_samples=50, n_features=2,\n",
    "                           n_informative =2, n_redundant=0, n_repeated=0,\n",
    "                           n_classes=2, random_state=0)\n",
    "blue = X[y==0]\n",
    "red = X[y==1]\n",
    "plt.scatter(red[:,0], red[:,1], 80, 'r', '^') # 빨강색 삼각형\n",
    "plt.scatter(blue[:,0], blue[:,1], 80, 'b', 's')# 파랑색 사각형\n",
    "\n",
    "newcomer = np.random.randn(1,2)\n",
    "plt.scatter(newcomer[:,0],newcomer[:,1],80,'g','o') # 초록색 원\n",
    "\n",
    "knn = KNeighborsClassifier(n_neighbors=3)\n",
    "knn.fit(X, y)\n",
    "pred = knn.predict(newcomer)\n",
    "\n",
    "print(\"prediction:\", pred)\n",
    "plt.annotate('red' if pred==1 else 'blue', xy=newcomer[0], \\\n",
    "             xytext=(newcomer[0]), fontsize=20)"
   ]
  },
  {
   "cell_type": "markdown",
   "metadata": {
    "slideshow": {
     "slide_type": "slide"
    }
   },
   "source": [
    "### 손글씨 숫자 분류 예제\n",
    "* `load_digits()`"
   ]
  },
  {
   "cell_type": "code",
   "execution_count": 2,
   "metadata": {
    "scrolled": true,
    "slideshow": {
     "slide_type": "subslide"
    }
   },
   "outputs": [
    {
     "name": "stdout",
     "output_type": "stream",
     "text": [
      "first digits : 0\n"
     ]
    },
    {
     "data": {
      "image/png": "[encoded data removed]",
      "text/plain": [
       "<Figure size 432x288 with 2 Axes>"
      ]
     },
     "metadata": {
      "needs_background": "light"
     },
     "output_type": "display_data"
    }
   ],
   "source": [
    "import numpy as np, cv2\n",
    "from sklearn.datasets import load_digits\n",
    "from sklearn.model_selection import train_test_split\n",
    "from sklearn.neighbors import KNeighborsClassifier\n",
    "import matplotlib.pyplot as plt\n",
    "\n",
    "digits = load_digits()  #Mnist로 도 해보자\n",
    "\n",
    "print(\"first digits :\", digits.target[0])\n",
    "plt.subplot(121)\n",
    "plt.imshow(digits.images[0], cmap='gray')\n",
    "plt.subplot(122)\n",
    "plt.imshow(digits.data[0].reshape((8,8)), cmap='gray')\n",
    "plt.show()"
   ]
  },
  {
   "cell_type": "markdown",
   "metadata": {},
   "source": [
    "### 손글씨  숫자 분류 예제\n",
    "* 첫 번째 숫자만 표시"
   ]
  },
  {
   "cell_type": "code",
   "execution_count": 3,
   "metadata": {
    "slideshow": {
     "slide_type": "slide"
    }
   },
   "outputs": [
    {
     "data": {
      "image/png": "[encoded data removed]",
      "text/plain": [
       "<Figure size 432x288 with 10 Axes>"
      ]
     },
     "metadata": {
      "needs_background": "light"
     },
     "output_type": "display_data"
    }
   ],
   "source": [
    "for i in digits.target_names:\n",
    "    dimg = digits.images[digits.target==i][0]\n",
    "    plt.subplot(1,10,i+1)\n",
    "    plt.imshow(dimg, cmap='gray')\n",
    "    plt.title(i)\n",
    "    plt.axis('off')\n",
    "plt.show()\n"
   ]
  },
  {
   "cell_type": "markdown",
   "metadata": {},
   "source": [
    "### 손글씨 숫자 분류 예제\n",
    "* 훈련 세트와 테스트 세트 분류\n",
    "* 예측"
   ]
  },
  {
   "cell_type": "code",
   "execution_count": 4,
   "metadata": {
    "slideshow": {
     "slide_type": "slide"
    }
   },
   "outputs": [
    {
     "name": "stdout",
     "output_type": "stream",
     "text": [
      "k=1, accuracy=99.11%\n",
      "k=2, accuracy=98.44%\n",
      "k=3, accuracy=98.67%\n",
      "k=4, accuracy=98.00%\n",
      "k=5, accuracy=98.00%\n",
      "k=6, accuracy=97.56%\n",
      "k=7, accuracy=97.78%\n",
      "k=8, accuracy=97.78%\n",
      "k=9, accuracy=97.78%\n",
      "k=10, accuracy=97.56%\n"
     ]
    }
   ],
   "source": [
    "X_train, X_test, y_train, y_test = train_test_split(digits.data, digits.target, random_state=0)\n",
    "\n",
    "for k in range(1, 11):\n",
    "    knn = KNeighborsClassifier(n_neighbors=k)\n",
    "    knn.fit(X_train, y_train)\n",
    "\n",
    "    score = knn.score(X_test, y_test)\n",
    "    print(\"k=%d, accuracy=%.2f%%\"%(k, score*100))"
   ]
  },
  {
   "cell_type": "code",
   "execution_count": 5,
   "metadata": {
    "scrolled": true
   },
   "outputs": [
    {
     "data": {
      "text/html": [
       "<div>\n",
       "<style scoped>\n",
       "    .dataframe tbody tr th:only-of-type {\n",
       "        vertical-align: middle;\n",
       "    }\n",
       "\n",
       "    .dataframe tbody tr th {\n",
       "        vertical-align: top;\n",
       "    }\n",
       "\n",
       "    .dataframe thead th {\n",
       "        text-align: right;\n",
       "    }\n",
       "</style>\n",
       "<table border=\"1\" class=\"dataframe\">\n",
       "  <thead>\n",
       "    <tr style=\"text-align: right;\">\n",
       "      <th></th>\n",
       "      <th>mean_fit_time</th>\n",
       "      <th>std_fit_time</th>\n",
       "      <th>mean_score_time</th>\n",
       "      <th>std_score_time</th>\n",
       "      <th>param_n_neighbors</th>\n",
       "      <th>params</th>\n",
       "      <th>split0_test_score</th>\n",
       "      <th>split1_test_score</th>\n",
       "      <th>mean_test_score</th>\n",
       "      <th>std_test_score</th>\n",
       "      <th>rank_test_score</th>\n",
       "    </tr>\n",
       "  </thead>\n",
       "  <tbody>\n",
       "    <tr>\n",
       "      <th>0</th>\n",
       "      <td>0.006476</td>\n",
       "      <td>5.053282e-04</td>\n",
       "      <td>0.051349</td>\n",
       "      <td>0.001508</td>\n",
       "      <td>1</td>\n",
       "      <td>{'n_neighbors': 1}</td>\n",
       "      <td>0.979228</td>\n",
       "      <td>0.986627</td>\n",
       "      <td>0.982928</td>\n",
       "      <td>0.003699</td>\n",
       "      <td>1</td>\n",
       "    </tr>\n",
       "    <tr>\n",
       "      <th>1</th>\n",
       "      <td>0.005984</td>\n",
       "      <td>2.384186e-07</td>\n",
       "      <td>0.050379</td>\n",
       "      <td>0.000486</td>\n",
       "      <td>2</td>\n",
       "      <td>{'n_neighbors': 2}</td>\n",
       "      <td>0.973294</td>\n",
       "      <td>0.976226</td>\n",
       "      <td>0.974760</td>\n",
       "      <td>0.001466</td>\n",
       "      <td>5</td>\n",
       "    </tr>\n",
       "    <tr>\n",
       "      <th>2</th>\n",
       "      <td>0.005984</td>\n",
       "      <td>8.344650e-07</td>\n",
       "      <td>0.053357</td>\n",
       "      <td>0.001468</td>\n",
       "      <td>3</td>\n",
       "      <td>{'n_neighbors': 3}</td>\n",
       "      <td>0.980712</td>\n",
       "      <td>0.977712</td>\n",
       "      <td>0.979212</td>\n",
       "      <td>0.001500</td>\n",
       "      <td>2</td>\n",
       "    </tr>\n",
       "    <tr>\n",
       "      <th>3</th>\n",
       "      <td>0.005986</td>\n",
       "      <td>1.192093e-07</td>\n",
       "      <td>0.051845</td>\n",
       "      <td>0.000984</td>\n",
       "      <td>4</td>\n",
       "      <td>{'n_neighbors': 4}</td>\n",
       "      <td>0.976261</td>\n",
       "      <td>0.973254</td>\n",
       "      <td>0.974758</td>\n",
       "      <td>0.001504</td>\n",
       "      <td>6</td>\n",
       "    </tr>\n",
       "    <tr>\n",
       "      <th>4</th>\n",
       "      <td>0.006020</td>\n",
       "      <td>5.125999e-06</td>\n",
       "      <td>0.055334</td>\n",
       "      <td>0.001473</td>\n",
       "      <td>5</td>\n",
       "      <td>{'n_neighbors': 5}</td>\n",
       "      <td>0.983680</td>\n",
       "      <td>0.973254</td>\n",
       "      <td>0.978467</td>\n",
       "      <td>0.005213</td>\n",
       "      <td>3</td>\n",
       "    </tr>\n",
       "    <tr>\n",
       "      <th>5</th>\n",
       "      <td>0.005979</td>\n",
       "      <td>1.192093e-07</td>\n",
       "      <td>0.053861</td>\n",
       "      <td>0.000997</td>\n",
       "      <td>6</td>\n",
       "      <td>{'n_neighbors': 6}</td>\n",
       "      <td>0.977745</td>\n",
       "      <td>0.973254</td>\n",
       "      <td>0.975499</td>\n",
       "      <td>0.002245</td>\n",
       "      <td>4</td>\n",
       "    </tr>\n",
       "    <tr>\n",
       "      <th>6</th>\n",
       "      <td>0.005983</td>\n",
       "      <td>3.814697e-06</td>\n",
       "      <td>0.052340</td>\n",
       "      <td>0.000482</td>\n",
       "      <td>7</td>\n",
       "      <td>{'n_neighbors': 7}</td>\n",
       "      <td>0.977745</td>\n",
       "      <td>0.968796</td>\n",
       "      <td>0.973271</td>\n",
       "      <td>0.004474</td>\n",
       "      <td>7</td>\n",
       "    </tr>\n",
       "    <tr>\n",
       "      <th>7</th>\n",
       "      <td>0.005984</td>\n",
       "      <td>1.668930e-06</td>\n",
       "      <td>0.053856</td>\n",
       "      <td>0.000998</td>\n",
       "      <td>8</td>\n",
       "      <td>{'n_neighbors': 8}</td>\n",
       "      <td>0.971810</td>\n",
       "      <td>0.967311</td>\n",
       "      <td>0.969560</td>\n",
       "      <td>0.002250</td>\n",
       "      <td>9</td>\n",
       "    </tr>\n",
       "    <tr>\n",
       "      <th>8</th>\n",
       "      <td>0.006483</td>\n",
       "      <td>4.991293e-04</td>\n",
       "      <td>0.057849</td>\n",
       "      <td>0.001029</td>\n",
       "      <td>9</td>\n",
       "      <td>{'n_neighbors': 9}</td>\n",
       "      <td>0.973294</td>\n",
       "      <td>0.971768</td>\n",
       "      <td>0.972531</td>\n",
       "      <td>0.000763</td>\n",
       "      <td>8</td>\n",
       "    </tr>\n",
       "  </tbody>\n",
       "</table>\n",
       "</div>"
      ],
      "text/plain": [
       "   mean_fit_time  std_fit_time  mean_score_time  std_score_time  \\\n",
       "0       0.006476  5.053282e-04         0.051349        0.001508   \n",
       "1       0.005984  2.384186e-07         0.050379        0.000486   \n",
       "2       0.005984  8.344650e-07         0.053357        0.001468   \n",
       "3       0.005986  1.192093e-07         0.051845        0.000984   \n",
       "4       0.006020  5.125999e-06         0.055334        0.001473   \n",
       "5       0.005979  1.192093e-07         0.053861        0.000997   \n",
       "6       0.005983  3.814697e-06         0.052340        0.000482   \n",
       "7       0.005984  1.668930e-06         0.053856        0.000998   \n",
       "8       0.006483  4.991293e-04         0.057849        0.001029   \n",
       "\n",
       "  param_n_neighbors              params  split0_test_score  split1_test_score  \\\n",
       "0                 1  {'n_neighbors': 1}           0.979228           0.986627   \n",
       "1                 2  {'n_neighbors': 2}           0.973294           0.976226   \n",
       "2                 3  {'n_neighbors': 3}           0.980712           0.977712   \n",
       "3                 4  {'n_neighbors': 4}           0.976261           0.973254   \n",
       "4                 5  {'n_neighbors': 5}           0.983680           0.973254   \n",
       "5                 6  {'n_neighbors': 6}           0.977745           0.973254   \n",
       "6                 7  {'n_neighbors': 7}           0.977745           0.968796   \n",
       "7                 8  {'n_neighbors': 8}           0.971810           0.967311   \n",
       "8                 9  {'n_neighbors': 9}           0.973294           0.971768   \n",
       "\n",
       "   mean_test_score  std_test_score  rank_test_score  \n",
       "0         0.982928        0.003699                1  \n",
       "1         0.974760        0.001466                5  \n",
       "2         0.979212        0.001500                2  \n",
       "3         0.974758        0.001504                6  \n",
       "4         0.978467        0.005213                3  \n",
       "5         0.975499        0.002245                4  \n",
       "6         0.973271        0.004474                7  \n",
       "7         0.969560        0.002250                9  \n",
       "8         0.972531        0.000763                8  "
      ]
     },
     "metadata": {},
     "output_type": "display_data"
    },
    {
     "name": "stdout",
     "output_type": "stream",
     "text": [
      "best param: {'n_neighbors': 1}\n"
     ]
    },
    {
     "data": {
      "text/plain": [
       "0.9911111111111112"
      ]
     },
     "execution_count": 5,
     "metadata": {},
     "output_type": "execute_result"
    }
   ],
   "source": [
    "from sklearn.model_selection import GridSearchCV\n",
    "import pandas as pd\n",
    "\n",
    "clf = GridSearchCV(estimator=knn, param_grid={'n_neighbors':range(1, 10)}, cv=2)\n",
    "clf.fit(X_train, y_train)\n",
    "display(pd.DataFrame(clf.cv_results_))\n",
    "\n",
    "print(\"best param:\", clf.best_params_)\n",
    "\n",
    "estimator = clf.best_estimator_\n",
    "estimator.score(X_test, y_test)"
   ]
  },
  {
   "cell_type": "markdown",
   "metadata": {},
   "source": [
    "### 손글씨 숫자 분류 예제\n",
    "* 손으로 쓴 숫자 인식하기\n",
    "* 온라인 그림판 : https://sketch.io/sketchpad/"
   ]
  },
  {
   "cell_type": "code",
   "execution_count": 6,
   "metadata": {
    "scrolled": true
   },
   "outputs": [
    {
     "data": {
      "image/png": "[encoded data removed]",
      "text/plain": [
       "<Figure size 432x288 with 1 Axes>"
      ]
     },
     "metadata": {
      "needs_background": "light"
     },
     "output_type": "display_data"
    },
    {
     "data": {
      "image/png": "[encoded data removed]",
      "text/plain": [
       "<Figure size 432x288 with 4 Axes>"
      ]
     },
     "metadata": {
      "needs_background": "light"
     },
     "output_type": "display_data"
    }
   ],
   "source": [
    "import numpy as np\n",
    "import cv2\n",
    "import matplotlib.pyplot as plt\n",
    "from sklearn.neighbors import KNeighborsClassifier\n",
    "import img2data\n",
    "\n",
    "img_path = './img/0458.png'\n",
    "\n",
    "image = cv2.imread(img_path)\n",
    "plt.imshow(image)\n",
    "plt.show()\n",
    "\n",
    "knn = KNeighborsClassifier(n_neighbors=1)\n",
    "knn.fit(digits.data, digits.target)\n",
    "\n",
    "numbers = img2data.img2digits(image, (8,8), reshape=True)\n",
    "for i, n in enumerate(numbers):\n",
    "    n = np.uint8(n/n.max() * 16) # 0~255 구간을 0~16구간으로 변경\n",
    "    pred = knn.predict(n)\n",
    "    plt.subplot(1, len(numbers), i+1)\n",
    "    plt.title(str(pred))\n",
    "    plt.imshow(n.reshape(8,8), cmap=\"gray\")\n",
    "    plt.axis(\"off\")\n"
   ]
  }
 ],
 "metadata": {
  "kernelspec": {
   "display_name": "Python 3",
   "language": "python",
   "name": "python3"
  },
  "language_info": {
   "codemirror_mode": {
    "name": "ipython",
    "version": 3
   },
   "file_extension": ".py",
   "mimetype": "text/x-python",
   "name": "python",
   "nbconvert_exporter": "python",
   "pygments_lexer": "ipython3",
   "version": "3.7.6"
  }
 },
 "nbformat": 4,
 "nbformat_minor": 2
}
